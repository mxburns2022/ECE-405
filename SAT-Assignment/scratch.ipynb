{
 "cells": [
  {
   "cell_type": "code",
   "execution_count": null,
   "metadata": {},
   "outputs": [],
   "source": []
  },
  {
   "cell_type": "code",
   "execution_count": 105,
   "metadata": {},
   "outputs": [
    {
     "data": {
      "text/plain": [
       "tensor([[[ 0.0000,  0.0000,  0.0000,  ...,  0.0000,  0.0000,  0.0000],\n",
       "         [ 0.0000,  0.0000,  0.0000,  ...,  0.0000,  0.0000,  0.0000],\n",
       "         [ 0.0000,  0.0000,  0.0000,  ...,  0.0000,  0.0000,  0.0000],\n",
       "         ...,\n",
       "         [ 0.0000,  0.0000,  0.0000,  ...,  0.0000,  0.0000,  0.0000],\n",
       "         [ 0.0000,  0.0000,  0.0000,  ...,  0.0000,  0.0000,  0.1250],\n",
       "         [ 0.0000,  0.0000,  0.0000,  ...,  0.0000,  0.1250,  0.0000]],\n",
       "\n",
       "        [[ 0.0000,  0.0000,  0.0000,  ...,  0.0000,  0.0000,  0.0000],\n",
       "         [ 0.0000,  0.0000,  0.0000,  ...,  0.0000,  0.0000,  0.0000],\n",
       "         [ 0.0000,  0.0000,  0.0000,  ...,  0.0000,  0.0000,  0.0000],\n",
       "         ...,\n",
       "         [ 0.0000,  0.0000,  0.0000,  ...,  0.0000,  0.0000, -0.1250],\n",
       "         [ 0.0000,  0.0000,  0.0000,  ...,  0.0000,  0.0000,  0.0000],\n",
       "         [ 0.0000,  0.0000,  0.0000,  ..., -0.1250,  0.0000,  0.0000]],\n",
       "\n",
       "        [[ 0.0000,  0.0000,  0.0000,  ...,  0.0000,  0.0000,  0.0000],\n",
       "         [ 0.0000,  0.0000,  0.0000,  ...,  0.0000,  0.0000,  0.0000],\n",
       "         [ 0.0000,  0.0000,  0.0000,  ...,  0.0000,  0.0000,  0.0000],\n",
       "         ...,\n",
       "         [ 0.0000,  0.0000,  0.0000,  ...,  0.0000,  0.0000,  0.0000],\n",
       "         [ 0.0000,  0.0000,  0.0000,  ...,  0.0000,  0.0000,  0.0000],\n",
       "         [ 0.0000,  0.0000,  0.0000,  ...,  0.0000,  0.0000,  0.0000]],\n",
       "\n",
       "        ...,\n",
       "\n",
       "        [[ 0.0000,  0.0000,  0.0000,  ...,  0.0000,  0.0000,  0.0000],\n",
       "         [ 0.0000,  0.0000,  0.0000,  ...,  0.0000,  0.0000, -0.1250],\n",
       "         [ 0.0000,  0.0000,  0.0000,  ...,  0.0000,  0.0000,  0.0000],\n",
       "         ...,\n",
       "         [ 0.0000,  0.0000,  0.0000,  ...,  0.0000,  0.0000,  0.0000],\n",
       "         [ 0.0000,  0.0000,  0.0000,  ...,  0.0000,  0.0000,  0.0000],\n",
       "         [ 0.0000, -0.1250,  0.0000,  ...,  0.0000,  0.0000,  0.0000]],\n",
       "\n",
       "        [[ 0.0000,  0.0000,  0.0000,  ...,  0.0000,  0.0000,  0.1250],\n",
       "         [ 0.0000,  0.0000,  0.0000,  ...,  0.0000,  0.0000,  0.0000],\n",
       "         [ 0.0000,  0.0000,  0.0000,  ...,  0.0000,  0.0000,  0.0000],\n",
       "         ...,\n",
       "         [ 0.0000,  0.0000,  0.0000,  ...,  0.0000,  0.0000,  0.0000],\n",
       "         [ 0.0000,  0.0000,  0.0000,  ...,  0.0000,  0.0000,  0.0000],\n",
       "         [ 0.1250,  0.0000,  0.0000,  ...,  0.0000,  0.0000,  0.0000]],\n",
       "\n",
       "        [[ 0.0000,  0.0000,  0.0000,  ...,  0.0000,  0.1250,  0.0000],\n",
       "         [ 0.0000,  0.0000,  0.0000,  ..., -0.1250,  0.0000,  0.0000],\n",
       "         [ 0.0000,  0.0000,  0.0000,  ...,  0.0000,  0.0000,  0.0000],\n",
       "         ...,\n",
       "         [ 0.0000, -0.1250,  0.0000,  ...,  0.0000,  0.0000,  0.0000],\n",
       "         [ 0.1250,  0.0000,  0.0000,  ...,  0.0000,  0.0000,  0.0000],\n",
       "         [ 0.0000,  0.0000,  0.0000,  ...,  0.0000,  0.0000,  0.0000]]])"
      ]
     },
     "execution_count": 105,
     "metadata": {},
     "output_type": "execute_result"
    }
   ],
   "source": [
    "import sympy as sp\n",
    "from itertools import permutations\n",
    "import torch\n",
    "\n",
    "def parse_dimacs_cnf(filename: str) -> tuple[int, list[list[int]]]:\n",
    "    with open(filename, \"r\") as file:\n",
    "        clauses, num_vars = [], 0\n",
    "        for line in file:\n",
    "            line = line.strip()\n",
    "            if not line or line.startswith(\"c\") or \"%\" in line:\n",
    "                continue  # skip comments\n",
    "            if line.startswith(\"p\"):\n",
    "                parts = line.split()\n",
    "                num_vars, num_clauses = int(parts[2]), int(parts[3])\n",
    "                continue\n",
    "            literals = [int(x) for x in line.split() if int(x) != 0]\n",
    "            if literals:\n",
    "                if len(literals) != 3:\n",
    "                    raise ValueError(\"Give me a 3-SAT problem.\")\n",
    "                clauses.append(literals)\n",
    "    return num_vars, clauses\n",
    "\n",
    "\n",
    "def convert_clauses_to_ising(num_vars, clauses, dtype=torch.float32):\n",
    "    var_symbols = sp.symbols(f\"x1:{num_vars+1}\")\n",
    "    h_coeff = torch.zeros(num_vars, dtype=dtype)\n",
    "    J_coeff = torch.zeros((num_vars, num_vars), dtype=dtype)\n",
    "    P_coeff = torch.zeros((num_vars, num_vars, num_vars), dtype=dtype)\n",
    "    scalar = 0\n",
    "    for clause in clauses:\n",
    "        term = 1\n",
    "        for literal in clause:\n",
    "            var = var_symbols[abs(literal) - 1]\n",
    "            term *= (1 - var) if literal > 0 else (1 + var)\n",
    "        expanded = sp.expand(term) / 8 #in HOIM paper, they added 1/8 to make the energy look great\n",
    "        coeffs = expanded.as_coefficients_dict()\n",
    "        for monomial, coeff in coeffs.items():\n",
    "            if monomial == 1:\n",
    "                scalar += float(coeff)\n",
    "                continue\n",
    "            vars_in_monomial = []\n",
    "            if isinstance(monomial, sp.Symbol):\n",
    "                vars_in_monomial = [str(monomial)]\n",
    "            elif isinstance(monomial, sp.Mul):\n",
    "                vars_in_monomial = sorted([str(arg) for arg in monomial.args])\n",
    "            else:\n",
    "                vars_in_monomial = [str(monomial)]\n",
    "            indices = sorted([int(var[1:]) - 1 for var in vars_in_monomial])\n",
    "            if len(indices) == 1:\n",
    "                h_coeff[indices[0]].add_(float(coeff))\n",
    "            elif len(indices) == 2:\n",
    "                J_coeff[indices[0], indices[1]].add_(float(coeff))\n",
    "                J_coeff[indices[1], indices[0]].add_(float(coeff))\n",
    "            elif len(indices) == 3:\n",
    "                key = tuple(indices)\n",
    "                for subkey in permutations(key):\n",
    "                    P_coeff[subkey].add_(float(coeff))\n",
    "    return h_coeff, J_coeff, P_coeff, scalar\n",
    "\n",
    "def string_to_expression(expr_string: str):\n",
    "    expression = sp.parse_expr(expr_string)    \n",
    "    syms = expression.as_terms()[-1]\n",
    "    assert set([s.name for s in syms]).issubset({'x1', 'x2', 'x3', 'z'})\n",
    "    symbol_dict = dict(zip(map(lambda x: x.name, syms), syms))\n",
    "    return expression, symbol_dict\n",
    "\n",
    "def clause_to_expression(clause, expression: sp.Expr, expr_syms, var_symbols, aux_symbols, ind):\n",
    "    clause_term = expression.xreplace(\n",
    "        dict([(expr_syms[f'x{i+1}'], 1+var_symbols[abs(clause[i])-1]) if clause[i] < 0 else (expr_syms[f'x{i+1}'], 1-var_symbols[abs(clause[i])-1])\n",
    "         for i in range(len(clause))])\n",
    "    )\n",
    "    if aux_symbols is not None:\n",
    "        clause_term = clause_term.replace(expr_syms['z'], aux_symbols[ind])\n",
    "    return clause_term\n",
    "\n",
    "num_vars, clauses = parse_dimacs_cnf(\"uf20-01.cnf\")\n",
    "h, J, P, scalar2 = convert_clauses_to_ising( num_vars, clauses)\n",
    "# h = torch.tensor(np.h.numpy())\n",
    "P\n",
    "# def run_langevin_brim(tstop, dt, )"
   ]
  },
  {
   "cell_type": "code",
   "execution_count": 103,
   "metadata": {},
   "outputs": [
    {
     "name": "stdout",
     "output_type": "stream",
     "text": [
      "[(2*z, ((2.0, 0.0), (0, 0, 0, 1), ())), (x3*z, ((1.0, 0.0), (0, 0, 1, 1), ())), (-x1*z, ((-1.0, 0.0), (1, 0, 0, 1), ())), (-x2*z, ((-1.0, 0.0), (0, 1, 0, 1), ())), (2*x1*x2, ((2.0, 0.0), (1, 1, 0, 0), ()))]\n",
      "[x1, x2, x3, z]\n"
     ]
    }
   ],
   "source": [
    "var_x1 = sp.Number\n",
    "expression = sp.parse_expr(\"x3 * z + (2*z - x1 * z - x2*z+2*x1*x2)\")\n",
    "syms = expression.as_terms()[-1]\n",
    "symbol_dict = dict(zip(map(lambda x: x.name, syms), syms))\n",
    "expression.replace(symbol_dict['x1'], 1), expression\n",
    "for expr in expression.as_terms():\n",
    "    print(expr)"
   ]
  },
  {
   "cell_type": "code",
   "execution_count": 60,
   "metadata": {},
   "outputs": [
    {
     "data": {
      "text/latex": [
       "$\\displaystyle x_{2} + 2$"
      ],
      "text/plain": [
       "x2 + 2"
      ]
     },
     "execution_count": 60,
     "metadata": {},
     "output_type": "execute_result"
    }
   ],
   "source": [
    "expression.xreplace({syms[3]: 1, syms[2]: 1, syms[0]: 1})"
   ]
  },
  {
   "cell_type": "code",
   "execution_count": null,
   "metadata": {},
   "outputs": [],
   "source": []
  }
 ],
 "metadata": {
  "kernelspec": {
   "display_name": "sat",
   "language": "python",
   "name": "python3"
  },
  "language_info": {
   "codemirror_mode": {
    "name": "ipython",
    "version": 3
   },
   "file_extension": ".py",
   "mimetype": "text/x-python",
   "name": "python",
   "nbconvert_exporter": "python",
   "pygments_lexer": "ipython3",
   "version": "3.11.9"
  }
 },
 "nbformat": 4,
 "nbformat_minor": 2
}
